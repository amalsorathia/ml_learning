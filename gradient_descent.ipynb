import pandas as pd
import numpy as np
import sklearn as sk
from sklearn import linear_model
import math

test_scores = pd.read_csv("/Users/amalsorathia/Downloads/test_scores.csv")
test_scores
x = np.asarray(test_scores.math)
y = np.asarray(test_scores.cs)



def gradient_descent(x,y):
    # initalize variable
    m_curr = b_curr = 0
    n = len(x)
    # define paramaters
    iterations = 410000
    learning_rate = 0.0002
    previous_cost = 0

    for i in range(iterations):
        y_predicted = m_curr * x + b_curr
        cost = (1/n) * sum([val ** 2 for val in (y-y_predicted)])
        md = (-2/n)*sum(x*(y-y_predicted))
        bd = (-2/n)*sum(y-y_predicted)
        # new m and b
        m_curr = m_curr - learning_rate * md
        b_curr = b_curr - learning_rate * bd
        if math.isclose(cost, previous_cost, rel_tol = 1e-20):
            break
        previous_cost = cost
        print("m:{}   b:{}    cost:{}     iteration {}".format(m_curr, b_curr, cost, i))

    return m_curr, b_curr


m ,b = gradient_descent(x,y)
print("Slope is: {} and intercept is: {}".format(m,b))


def predict_sk_learn():
    test_scores = pd.read_csv("/Users/amalsorathia/Downloads/test_scores.csv")
    reg = sk.linear_model.LinearRegression()
    reg.fit(test_scores[['math']], test_scores.cs)
    return reg.coef_, reg.intercept_


m_sklearn, b_sklearn = predict_sk_learn()
print("Using sklearn: Coef {} Intercept {}".format(m_sklearn,b_sklearn))
